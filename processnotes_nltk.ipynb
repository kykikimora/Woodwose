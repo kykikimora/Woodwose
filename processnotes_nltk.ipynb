{
 "cells": [
  {
   "cell_type": "markdown",
   "metadata": {},
   "source": [
    "I installed NLTK package using pip in the Bash terminal (7/8/24)  "
   ]
  },
  {
   "cell_type": "code",
   "execution_count": 34,
   "metadata": {},
   "outputs": [
    {
     "name": "stderr",
     "output_type": "stream",
     "text": [
      "[nltk_data] Downloading collection 'popular'\n",
      "[nltk_data]    | \n",
      "[nltk_data]    | Downloading package cmudict to\n",
      "[nltk_data]    |     C:\\Users\\carol\\AppData\\Roaming\\nltk_data...\n",
      "[nltk_data]    |   Package cmudict is already up-to-date!\n",
      "[nltk_data]    | Downloading package gazetteers to\n",
      "[nltk_data]    |     C:\\Users\\carol\\AppData\\Roaming\\nltk_data...\n",
      "[nltk_data]    |   Package gazetteers is already up-to-date!\n",
      "[nltk_data]    | Downloading package genesis to\n",
      "[nltk_data]    |     C:\\Users\\carol\\AppData\\Roaming\\nltk_data...\n",
      "[nltk_data]    |   Package genesis is already up-to-date!\n",
      "[nltk_data]    | Downloading package gutenberg to\n",
      "[nltk_data]    |     C:\\Users\\carol\\AppData\\Roaming\\nltk_data...\n",
      "[nltk_data]    |   Package gutenberg is already up-to-date!\n",
      "[nltk_data]    | Downloading package inaugural to\n",
      "[nltk_data]    |     C:\\Users\\carol\\AppData\\Roaming\\nltk_data...\n",
      "[nltk_data]    |   Package inaugural is already up-to-date!\n",
      "[nltk_data]    | Downloading package movie_reviews to\n",
      "[nltk_data]    |     C:\\Users\\carol\\AppData\\Roaming\\nltk_data...\n",
      "[nltk_data]    |   Package movie_reviews is already up-to-date!\n",
      "[nltk_data]    | Downloading package names to\n",
      "[nltk_data]    |     C:\\Users\\carol\\AppData\\Roaming\\nltk_data...\n",
      "[nltk_data]    |   Package names is already up-to-date!\n",
      "[nltk_data]    | Downloading package shakespeare to\n",
      "[nltk_data]    |     C:\\Users\\carol\\AppData\\Roaming\\nltk_data...\n",
      "[nltk_data]    |   Package shakespeare is already up-to-date!\n",
      "[nltk_data]    | Downloading package stopwords to\n",
      "[nltk_data]    |     C:\\Users\\carol\\AppData\\Roaming\\nltk_data...\n",
      "[nltk_data]    |   Package stopwords is already up-to-date!\n",
      "[nltk_data]    | Downloading package treebank to\n",
      "[nltk_data]    |     C:\\Users\\carol\\AppData\\Roaming\\nltk_data...\n",
      "[nltk_data]    |   Package treebank is already up-to-date!\n",
      "[nltk_data]    | Downloading package twitter_samples to\n",
      "[nltk_data]    |     C:\\Users\\carol\\AppData\\Roaming\\nltk_data...\n",
      "[nltk_data]    |   Package twitter_samples is already up-to-date!\n",
      "[nltk_data]    | Downloading package omw to\n",
      "[nltk_data]    |     C:\\Users\\carol\\AppData\\Roaming\\nltk_data...\n",
      "[nltk_data]    |   Package omw is already up-to-date!\n",
      "[nltk_data]    | Downloading package omw-1.4 to\n",
      "[nltk_data]    |     C:\\Users\\carol\\AppData\\Roaming\\nltk_data...\n",
      "[nltk_data]    |   Package omw-1.4 is already up-to-date!\n",
      "[nltk_data]    | Downloading package wordnet to\n",
      "[nltk_data]    |     C:\\Users\\carol\\AppData\\Roaming\\nltk_data...\n",
      "[nltk_data]    |   Package wordnet is already up-to-date!\n",
      "[nltk_data]    | Downloading package wordnet2021 to\n",
      "[nltk_data]    |     C:\\Users\\carol\\AppData\\Roaming\\nltk_data...\n",
      "[nltk_data]    |   Package wordnet2021 is already up-to-date!\n",
      "[nltk_data]    | Downloading package wordnet31 to\n",
      "[nltk_data]    |     C:\\Users\\carol\\AppData\\Roaming\\nltk_data...\n",
      "[nltk_data]    |   Package wordnet31 is already up-to-date!\n",
      "[nltk_data]    | Downloading package wordnet_ic to\n",
      "[nltk_data]    |     C:\\Users\\carol\\AppData\\Roaming\\nltk_data...\n",
      "[nltk_data]    |   Package wordnet_ic is already up-to-date!\n",
      "[nltk_data]    | Downloading package words to\n",
      "[nltk_data]    |     C:\\Users\\carol\\AppData\\Roaming\\nltk_data...\n",
      "[nltk_data]    |   Package words is already up-to-date!\n",
      "[nltk_data]    | Downloading package maxent_ne_chunker to\n",
      "[nltk_data]    |     C:\\Users\\carol\\AppData\\Roaming\\nltk_data...\n",
      "[nltk_data]    |   Package maxent_ne_chunker is already up-to-date!\n",
      "[nltk_data]    | Downloading package punkt to\n",
      "[nltk_data]    |     C:\\Users\\carol\\AppData\\Roaming\\nltk_data...\n",
      "[nltk_data]    |   Package punkt is already up-to-date!\n",
      "[nltk_data]    | Downloading package snowball_data to\n",
      "[nltk_data]    |     C:\\Users\\carol\\AppData\\Roaming\\nltk_data...\n",
      "[nltk_data]    |   Package snowball_data is already up-to-date!\n",
      "[nltk_data]    | Downloading package averaged_perceptron_tagger to\n",
      "[nltk_data]    |     C:\\Users\\carol\\AppData\\Roaming\\nltk_data...\n",
      "[nltk_data]    |   Package averaged_perceptron_tagger is already up-\n",
      "[nltk_data]    |       to-date!\n",
      "[nltk_data]    | \n",
      "[nltk_data]  Done downloading collection popular\n"
     ]
    },
    {
     "data": {
      "text/plain": [
       "True"
      ]
     },
     "execution_count": 34,
     "metadata": {},
     "output_type": "execute_result"
    }
   ],
   "source": [
    "import nltk\n",
    "\n",
    "nltk.download(\"popular\")"
   ]
  },
  {
   "cell_type": "markdown",
   "metadata": {},
   "source": [
    "Successfully imported package using the 'Global' python kernel, Python 3.12.3\n",
    "Had troubles using the package, then added the following code below import command: nltk.download(\"popular\")\n",
    "over 7 minutes so far and still downloading....glad I didn't .download(\"all\") \n",
    "Total time: 8m41s"
   ]
  },
  {
   "cell_type": "code",
   "execution_count": 35,
   "metadata": {},
   "outputs": [],
   "source": [
    "from nltk.tokenize import sent_tokenize, word_tokenize"
   ]
  },
  {
   "cell_type": "code",
   "execution_count": 36,
   "metadata": {},
   "outputs": [],
   "source": [
    "example_string = \"\"\"\n",
    "Muad'Dib learned rapidly because his first training was in how to learn.\n",
    "And the first lesson of all was the basic trust that he could learn.\n",
    "It's shocking to find how many people do not believe they can learn,\n",
    "and how many more believe learning to be difficult.\"\"\""
   ]
  },
  {
   "cell_type": "code",
   "execution_count": 37,
   "metadata": {},
   "outputs": [
    {
     "data": {
      "text/plain": [
       "[\"\\nMuad'Dib learned rapidly because his first training was in how to learn.\",\n",
       " 'And the first lesson of all was the basic trust that he could learn.',\n",
       " \"It's shocking to find how many people do not believe they can learn,\\nand how many more believe learning to be difficult.\"]"
      ]
     },
     "execution_count": 37,
     "metadata": {},
     "output_type": "execute_result"
    }
   ],
   "source": [
    "sent_tokenize(example_string, language=\"english\")"
   ]
  },
  {
   "cell_type": "code",
   "execution_count": 38,
   "metadata": {},
   "outputs": [
    {
     "data": {
      "text/plain": [
       "[\"Muad'Dib\",\n",
       " 'learned',\n",
       " 'rapidly',\n",
       " 'because',\n",
       " 'his',\n",
       " 'first',\n",
       " 'training',\n",
       " 'was',\n",
       " 'in',\n",
       " 'how',\n",
       " 'to',\n",
       " 'learn',\n",
       " '.',\n",
       " 'And',\n",
       " 'the',\n",
       " 'first',\n",
       " 'lesson',\n",
       " 'of',\n",
       " 'all',\n",
       " 'was',\n",
       " 'the',\n",
       " 'basic',\n",
       " 'trust',\n",
       " 'that',\n",
       " 'he',\n",
       " 'could',\n",
       " 'learn',\n",
       " '.',\n",
       " 'It',\n",
       " \"'s\",\n",
       " 'shocking',\n",
       " 'to',\n",
       " 'find',\n",
       " 'how',\n",
       " 'many',\n",
       " 'people',\n",
       " 'do',\n",
       " 'not',\n",
       " 'believe',\n",
       " 'they',\n",
       " 'can',\n",
       " 'learn',\n",
       " ',',\n",
       " 'and',\n",
       " 'how',\n",
       " 'many',\n",
       " 'more',\n",
       " 'believe',\n",
       " 'learning',\n",
       " 'to',\n",
       " 'be',\n",
       " 'difficult',\n",
       " '.']"
      ]
     },
     "execution_count": 38,
     "metadata": {},
     "output_type": "execute_result"
    }
   ],
   "source": [
    "word_tokenize(example_string)"
   ]
  },
  {
   "cell_type": "markdown",
   "metadata": {},
   "source": [
    "Successfully tokenized words 7/9/24"
   ]
  },
  {
   "cell_type": "code",
   "execution_count": 39,
   "metadata": {},
   "outputs": [],
   "source": [
    "Behe_agribusiness_intro = \"\"\"\n",
    "Sellers face a tradeoff when considering increasing the size of their display. Smaller displays simplify the\n",
    "choice decision, allowing the consumer to consider all potential purchasing alternatives, but may fail to\n",
    "provide sufficient variety to the consumer. Large displays may correct for the lack of variety, but they also\n",
    "increase the cost for consumers to find their optimal choice alternative. Indeed, purchasing decisions may be\n",
    "driven by a well‐designed retail display (Zuschke, 2020). Yet, creating sizeable product displays also invites\n",
    "unintended consequences, particularly if the retailer fails to account for consumer heuristics (Gigerenzer &\n",
    "Gaissmaier, 2011).\n",
    "These tradeoffs are particularly salient for agribusiness retail firms such as garden centers, and florists, whose\n",
    "sales of lawn and garden products reached above $34 billion in 2019 (Rosenberg, 2020). Though these agribusi\u0002nesses sell minimally packaged items in retail outlets, most studies on choice overload have focused on experi\u0002mental designs for packaged, labeled products such as beer and jam (Iyengar & Lepper, 2000; Malone &\n",
    "Lusk, 2017, 2019). While creating attractive and functional product displays can boost sales, mismanaged product\n",
    "displays can adversely affect revenue (Inbar et al., 2011). Thus, sellers must maintain a delicate balance between the\n",
    "number of choice alternatives and purchasing behavior, centering on consumers' visual attention and the cognitive\n",
    "burden imposed by the display.\n",
    "The overall objective of this study is to investigate how agribusiness retailers might mitigate a consumer's\n",
    "cognitive overload by mediating visual attention. We manipulate the number of product alternatives in a potted\n",
    "plant display to measure how display size influences a consumer's cognitive load. Eye‐tracking technology enables\n",
    "us to track a consumer's visual gaze sequence, thereby creating straightforward proxies for cognitive load (Chandon\n",
    "et al., 2009; Huddleston et al., 2018; Wedel & Pieters, 2008).\n",
    "Numerous studies have described choice overload as consumer “mistakes” caused by an excessive number of unique\n",
    "choice options (c.f., Chernev et al., 2015; Scheibehenne et al., 2010). Our study adds to that literature by examining the\n",
    "relationship between cognitive load, visual attention, and decision‐making. Specifically, we examine how the number of\n",
    "choice alternatives in a retail display can lead to increased cognitive burden, visual nonattendance, and other common\n",
    "purchasing behaviors. We examine how display size affects consumer shopping and choice behavior, showing that, on\n",
    "average, increasing the number of alternatives in the display increases time to choice at a decreasing rate. One way that\n",
    "consumers adapt to increased display complexity is to ignore an increasing proportion of the display. That is, as the number\n",
    "of choice alternatives in the display increases, consumers simply ignore a larger share of the display. Indeed, we also find\n",
    "that increases in display size reduce the proportion of a participant's gaze sequence devoted to their preferred choice\n",
    "alternative.\n",
    "By focusing on horticultural products, this article is especially relevant for the agribusiness marketing literature.\n",
    "Prior studies have largely focused on packaged, processed food sales, where front‐of‐package and back‐of‐package\n",
    "marketing can help alleviate cognitive overload through product differentiation (Grebitus & Roosen, 2018; Orquin\n",
    "et al., 2020; Reutskaja et al., 2011; Van Loo et al., 2015). By contrast, numerous agribusiness retail outlets sell\n",
    "minimally packaged items such as fresh produce, herbs, and flowers. Minimal packaging allows consumers to\n",
    "consider distinctive features that may indicate quality of the product. Even when choice alternatives are the same\n",
    "product (e.g., containers of blueberries), heterogeneous features at the point of sale might affect choice (e.g.,\n",
    "ripeness). Additionally, while packaged food sales are shifting from in‐store retail outlets to online (Dalton\n",
    "et al., 2020), plant purchases are still mostly in‐person (Campbell et al., 2021). As such, our study informs the design\n",
    "of agribusiness marketing displays by demonstrating that extravagant displays meant to capture consumer attention\n",
    "may have undesirable effects.\n",
    "The remainder of the article is structured as follows. Section 2 provides the background on cognitive load, retail\n",
    "display marketing, and eye‐tracking technology. Section 3 describes our experimental procedures and introduces\n",
    "the data used in analysis. Section 4 presents results, and Section 5 discusses the implications of the results on\n",
    "horticultural and agricultural marketing strategies.\"\"\""
   ]
  },
  {
   "cell_type": "code",
   "execution_count": 40,
   "metadata": {},
   "outputs": [
    {
     "data": {
      "text/plain": [
       "['\\nSellers face a tradeoff when considering increasing the size of their display.',\n",
       " 'Smaller displays simplify the\\nchoice decision, allowing the consumer to consider all potential purchasing alternatives, but may fail to\\nprovide sufficient variety to the consumer.',\n",
       " 'Large displays may correct for the lack of variety, but they also\\nincrease the cost for consumers to find their optimal choice alternative.',\n",
       " 'Indeed, purchasing decisions may be\\ndriven by a well‐designed retail display (Zuschke, 2020).',\n",
       " 'Yet, creating sizeable product displays also invites\\nunintended consequences, particularly if the retailer fails to account for consumer heuristics (Gigerenzer &\\nGaissmaier, 2011).',\n",
       " 'These tradeoffs are particularly salient for agribusiness retail firms such as garden centers, and florists, whose\\nsales of lawn and garden products reached above $34 billion in 2019 (Rosenberg, 2020).',\n",
       " 'Though these agribusi\\x02nesses sell minimally packaged items in retail outlets, most studies on choice overload have focused on experi\\x02mental designs for packaged, labeled products such as beer and jam (Iyengar & Lepper, 2000; Malone &\\nLusk, 2017, 2019).',\n",
       " 'While creating attractive and functional product displays can boost sales, mismanaged product\\ndisplays can adversely affect revenue (Inbar et al., 2011).',\n",
       " \"Thus, sellers must maintain a delicate balance between the\\nnumber of choice alternatives and purchasing behavior, centering on consumers' visual attention and the cognitive\\nburden imposed by the display.\",\n",
       " \"The overall objective of this study is to investigate how agribusiness retailers might mitigate a consumer's\\ncognitive overload by mediating visual attention.\",\n",
       " \"We manipulate the number of product alternatives in a potted\\nplant display to measure how display size influences a consumer's cognitive load.\",\n",
       " \"Eye‐tracking technology enables\\nus to track a consumer's visual gaze sequence, thereby creating straightforward proxies for cognitive load (Chandon\\net al., 2009; Huddleston et al., 2018; Wedel & Pieters, 2008).\",\n",
       " 'Numerous studies have described choice overload as consumer “mistakes” caused by an excessive number of unique\\nchoice options (c.f., Chernev et al., 2015; Scheibehenne et al., 2010).',\n",
       " 'Our study adds to that literature by examining the\\nrelationship between cognitive load, visual attention, and decision‐making.',\n",
       " 'Specifically, we examine how the number of\\nchoice alternatives in a retail display can lead to increased cognitive burden, visual nonattendance, and other common\\npurchasing behaviors.',\n",
       " 'We examine how display size affects consumer shopping and choice behavior, showing that, on\\naverage, increasing the number of alternatives in the display increases time to choice at a decreasing rate.',\n",
       " 'One way that\\nconsumers adapt to increased display complexity is to ignore an increasing proportion of the display.',\n",
       " 'That is, as the number\\nof choice alternatives in the display increases, consumers simply ignore a larger share of the display.',\n",
       " \"Indeed, we also find\\nthat increases in display size reduce the proportion of a participant's gaze sequence devoted to their preferred choice\\nalternative.\",\n",
       " 'By focusing on horticultural products, this article is especially relevant for the agribusiness marketing literature.',\n",
       " 'Prior studies have largely focused on packaged, processed food sales, where front‐of‐package and back‐of‐package\\nmarketing can help alleviate cognitive overload through product differentiation (Grebitus & Roosen, 2018; Orquin\\net al., 2020; Reutskaja et al., 2011; Van Loo et al., 2015).',\n",
       " 'By contrast, numerous agribusiness retail outlets sell\\nminimally packaged items such as fresh produce, herbs, and flowers.',\n",
       " 'Minimal packaging allows consumers to\\nconsider distinctive features that may indicate quality of the product.',\n",
       " 'Even when choice alternatives are the same\\nproduct (e.g., containers of blueberries), heterogeneous features at the point of sale might affect choice (e.g.,\\nripeness).',\n",
       " 'Additionally, while packaged food sales are shifting from in‐store retail outlets to online (Dalton\\net al., 2020), plant purchases are still mostly in‐person (Campbell et al., 2021).',\n",
       " 'As such, our study informs the design\\nof agribusiness marketing displays by demonstrating that extravagant displays meant to capture consumer attention\\nmay have undesirable effects.',\n",
       " 'The remainder of the article is structured as follows.',\n",
       " 'Section 2 provides the background on cognitive load, retail\\ndisplay marketing, and eye‐tracking technology.',\n",
       " 'Section 3 describes our experimental procedures and introduces\\nthe data used in analysis.',\n",
       " 'Section 4 presents results, and Section 5 discusses the implications of the results on\\nhorticultural and agricultural marketing strategies.']"
      ]
     },
     "execution_count": 40,
     "metadata": {},
     "output_type": "execute_result"
    }
   ],
   "source": [
    "sent_tokenize(Behe_agribusiness_intro)"
   ]
  },
  {
   "cell_type": "code",
   "execution_count": 41,
   "metadata": {},
   "outputs": [],
   "source": [
    "words = word_tokenize(Behe_agribusiness_intro)"
   ]
  },
  {
   "cell_type": "markdown",
   "metadata": {},
   "source": [
    "Tokenized the intro of a research article by Dr. Behe concerning choice overload and purchasing heuristics."
   ]
  },
  {
   "cell_type": "code",
   "execution_count": 42,
   "metadata": {},
   "outputs": [
    {
     "name": "stderr",
     "output_type": "stream",
     "text": [
      "[nltk_data] Downloading package stopwords to\n",
      "[nltk_data]     C:\\Users\\carol\\AppData\\Roaming\\nltk_data...\n",
      "[nltk_data]   Package stopwords is already up-to-date!\n"
     ]
    }
   ],
   "source": [
    "nltk.download(\"stopwords\")\n",
    "from nltk.corpus import stopwords"
   ]
  },
  {
   "cell_type": "code",
   "execution_count": 43,
   "metadata": {},
   "outputs": [],
   "source": [
    "stop_words = set(stopwords.words(\"english\"))"
   ]
  },
  {
   "cell_type": "code",
   "execution_count": 44,
   "metadata": {},
   "outputs": [],
   "source": [
    "#now creating an empty list to hold all the words in Behe_agribusiness_intro that are NOT stop words.\n",
    "\n",
    "filtered_list = []"
   ]
  },
  {
   "cell_type": "code",
   "execution_count": 48,
   "metadata": {},
   "outputs": [],
   "source": [
    "for word in Behe_agribusiness_intro:\n",
    "    if word.casefold() not in stop_words:\n",
    "        filtered_list.append(word)"
   ]
  },
  {
   "cell_type": "code",
   "execution_count": 46,
   "metadata": {},
   "outputs": [],
   "source": [
    "#filtered_list = [\n",
    "       # word for word in Behe_agribusiness_intro if word.casefold() not in stop_words\n",
    "#]"
   ]
  },
  {
   "cell_type": "markdown",
   "metadata": {},
   "source": [
    "attempt 1: the filtered list came out with individual letters? "
   ]
  },
  {
   "cell_type": "code",
   "execution_count": null,
   "metadata": {},
   "outputs": [],
   "source": []
  }
 ],
 "metadata": {
  "kernelspec": {
   "display_name": "Python 3",
   "language": "python",
   "name": "python3"
  },
  "language_info": {
   "codemirror_mode": {
    "name": "ipython",
    "version": 3
   },
   "file_extension": ".py",
   "mimetype": "text/x-python",
   "name": "python",
   "nbconvert_exporter": "python",
   "pygments_lexer": "ipython3",
   "version": "3.12.3"
  }
 },
 "nbformat": 4,
 "nbformat_minor": 2
}
